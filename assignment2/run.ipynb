{
 "cells": [
  {
   "cell_type": "markdown",
   "metadata": {},
   "source": [
    "<h1><center> Practical assignment # 2: convolutional neural networks </center></h1>"
   ]
  },
  {
   "cell_type": "markdown",
   "metadata": {},
   "source": [
    "1. **Start date**: 12 Apr 2017 (Lecture # 7)\n",
    "2. **Deadline**: 24 May 2017\n",
    "\n",
    "### General information on the task:\n",
    "**Diabetic retinopathy** is a common eye disease affecting more than 93 mln people worldwide and notorious for being one of the major causes of blindness in the working-age population of the developed world. Scientists distinguish 4 stages of the disease differing in their symptoms and influence on human's health. Pregression to vision impairment can be slowed or even averted if diabetic retinopathy is detected in time. However, this can be difficult as the disease often shows few symptoms (stages 1, 2) until it is too late to provide effective treatment (stage 4). Currently, detecting diabetic retinopathy is a time-consuming and manual process that requires a trained clinician to examine and evaluate digital color fundus photos of the retina: \n",
    "\n",
    "<tr>\n",
    " <td><img src='good.jpeg' width=\"180\"/></td>  stage 0:\n",
    " <td><img src='bad.jpeg' width=\"180\"/></td>   stage 4:\n",
    "</tr>"
   ]
  },
  {
   "cell_type": "markdown",
   "metadata": {},
   "source": [
    "In 2015, [EyePACS](http://www.eyepacs.com/)  and [California HealthCare Foundation](http://www.chcf.org/) organized a [competition](https://www.kaggle.com/c/diabetic-retinopathy-detection) among data scientists on Kaggle platform. The main goal of this competition was to create a model capable of identifying diabetic retinopathy stage given a color fundus photography as input. To evaluate the quality of the model, a metric called [quadratic weighted kappa](https://www.kaggle.com/c/diabetic-retinopathy-detection#evaluation) was suggested. Quadratic weighted kappa measures correlation between predicted and correct values. The more random the prediction is, the closer kappa is to zero. In contrast, the stronger the positive correlation is, the closer kappa is to unit. Top-10 participants were able to achieve kappa greater than 0.8, the level of performance comparable with that of clinician. \n",
    "\n",
    "Inspired by the results of this competition, we decided to propose you a similar task as your 2 assignment. "
   ]
  },
  {
   "cell_type": "markdown",
   "metadata": {},
   "source": [
    "### Assignment objectives:\n",
    "\n",
    "1. Create a convolutional neural network that takes color fundus images as input and predicts the stage of diabetic retinopathy on them.  \n",
    "2. Assignment will be considered as successfully completed if either quadratic weighted kappa for predictions of your model on test dataset is geater than 0.35 or your results are in TOP-40% of the classroom final rating "
   ]
  },
  {
   "cell_type": "markdown",
   "metadata": {},
   "source": [
    "### Datasets: \n",
    "\n",
    "This assignment uses preprocessed images of color fundus from [Kaggle competition datasets](https://www.kaggle.com/c/diabetic-retinopathy-detection/data). Preprocessing includes blurring, cropping, and resizing to 512x512. To prevent students from augmenting their training set by publicly available Kaggle test dataset, some color distortions were introduced to the images. These distortions cause funny changes in color palitra, but do not affect training efficiency. Numbers in filenames are ids of people. Left and Right mean left and right eyes (usually there is a strong correlation between stages of two eyes)  \n",
    "\n",
    "1. Training dataset consists of 35126 images each of which is assigned to one of 5 classes (0 class means a healthy eye). We have already divided training dataset into train and validation parts, but feel free to make your own division. Dataset is available [here](https://yadi.sk/d/mzaFYDgG3GtdV3). Table containing names of files and disease stage per each of the images in .csv format can be taken [here](https://yadi.sk/d/7SFlJS9I3GtgGD)\n",
    "\n",
    "2. Test dataset is composed of 53576 unclassified images and can be downloaded [here](https://yadi.sk/d/HkdQMqoI3GtcQa)    "
   ]
  },
  {
   "cell_type": "markdown",
   "metadata": {},
   "source": [
    "### Submitting results:\n",
    "After Lecture # 8, you will be able to submit your predictions for test dataset images. Predictions should be sent in .csv file with two columns (image: filename without '.jpeg', level: integer number of predicted class). Submission details will be discussed later. "
   ]
  },
  {
   "cell_type": "code",
   "execution_count": 2,
   "metadata": {},
   "outputs": [
    {
     "name": "stdout",
     "output_type": "stream",
     "text": [
      "      image  level\n",
      "0   10_left      0\n",
      "1  10_right      0\n",
      "2   13_left      0\n"
     ]
    }
   ],
   "source": [
    "import pandas as pd\n",
    "prediction = pd.read_csv('trainLabels.csv', nrows=3)\n",
    "print prediction"
   ]
  },
  {
   "cell_type": "markdown",
   "metadata": {},
   "source": [
    "## Baseline model\n",
    "\n",
    "To give you a basic idea of how to approach the assignment, we have prepared a simple baseline model. Below, we guide you through the key steps of its pipeline\n",
    "\n",
    "1. Download the model and the data. Check that (i) folders data (with subfolders train, test and validation), models and model_params (currently, empty) are in the assignment's main directory, (ii) scripts train.py and evaluate.py as well as .csv file ['trainLabels.csv'](https://yadi.sk/d/7SFlJS9I3GtgGD) are in the main directory, (iii) scripts settings.py (with model's hyperparameters), utils.py, and model.py are in models folder. \n",
    "2. Train the model by launching 'python train.py' in the main directory \n",
    "3. While training, you will be able to observe training statistics (train_loss, train_acc, val_loss, val_acc) that after finishing the learning process, will be saved in 'history.csv' file. Weights for best models are stored in model_params folder and acquire names refering to their val_acc and epoch when they were recorded.\n",
    "4. Now you can calculate quadratic weighted kappa for several good models on validation dataset. Below, we demonstrate how to do it by using code from evaluate.py.\n",
    "5. Take your best model and predict classes for test dataset. Send your predictions to us, as it was described in 'Submitting results'. We took checkpoint weights-improvement-35-0.61.hdf5 for predicting labels of test dataset and obtained kappa = 0.16"
   ]
  },
  {
   "cell_type": "code",
   "execution_count": 1,
   "metadata": {},
   "outputs": [
    {
     "name": "stderr",
     "output_type": "stream",
     "text": [
      "Using TensorFlow backend.\n"
     ]
    }
   ],
   "source": [
    "import os\n",
    "import numpy as np\n",
    "import pandas as pd\n",
    "from PIL import Image\n",
    "from models.settings import *\n",
    "from keras.models import model_from_json\n",
    "from models.utils import quadratic_weighted_kappa"
   ]
  },
  {
   "cell_type": "code",
   "execution_count": 4,
   "metadata": {
    "collapsed": true
   },
   "outputs": [],
   "source": [
    "# test data dir\n",
    "test_data_dir = 'data/validation/'\n",
    "\n",
    "# read names of images and correct labels for them\n",
    "correct_data = pd.read_csv('trainLabels.csv')\n",
    "\n",
    "# create pool of images to be evaluated\n",
    "image_file_pool = []\n",
    "image_name_pool = []\n",
    "class_names = [name for name in os.listdir(test_data_dir)]\n",
    "for class_name in class_names:\n",
    "    for file in os.listdir(test_data_dir+class_name+'/'):\n",
    "        if file.endswith(\".jpeg\"):\n",
    "            image_file_pool.append(test_data_dir+class_name+'/'+file)\n",
    "            image_name_pool.append(file[:-5])\n",
    "\n",
    "# list of trained models to check\n",
    "list_of_checkpoints = [ \n",
    "\"weights-improvement-00-0.19.hdf5\",\n",
    "\"weights-improvement-01-0.23.hdf5\",\n",
    "\"weights-improvement-02-0.13.hdf5\",\n",
    "\"weights-improvement-03-0.24.hdf5\",\n",
    "\"weights-improvement-04-0.27.hdf5\",\n",
    "\"weights-improvement-05-0.30.hdf5\",\n",
    "\"weights-improvement-06-0.35.hdf5\",\n",
    "\"weights-improvement-07-0.35.hdf5\",\n",
    "\"weights-improvement-08-0.28.hdf5\",\n",
    "\"weights-improvement-09-0.27.hdf5\",\n",
    "\"weights-improvement-10-0.37.hdf5\",\n",
    "\"weights-improvement-11-0.33.hdf5\",\n",
    "\"weights-improvement-12-0.35.hdf5\",\n",
    "\"weights-improvement-13-0.35.hdf5\",\n",
    "\"weights-improvement-14-0.40.hdf5\",\n",
    "\"weights-improvement-15-0.33.hdf5\",\n",
    "\"weights-improvement-16-0.51.hdf5\",\n",
    "\"weights-improvement-17-0.41.hdf5\",\n",
    "\"weights-improvement-18-0.44.hdf5\",\n",
    "\"weights-improvement-19-0.25.hdf5\",\n",
    "\"weights-improvement-20-0.30.hdf5\",\n",
    "\"weights-improvement-21-0.38.hdf5\",\n",
    "\"weights-improvement-22-0.45.hdf5\",\n",
    "\"weights-improvement-23-0.43.hdf5\",\n",
    "\"weights-improvement-24-0.55.hdf5\",\n",
    "\"weights-improvement-25-0.54.hdf5\",\n",
    "\"weights-improvement-26-0.58.hdf5\",\n",
    "\"weights-improvement-27-0.55.hdf5\",\n",
    "\"weights-improvement-28-0.44.hdf5\",\n",
    "\"weights-improvement-29-0.59.hdf5\",\n",
    "\"weights-improvement-30-0.48.hdf5\",\n",
    "\"weights-improvement-31-0.58.hdf5\",\n",
    "\"weights-improvement-32-0.53.hdf5\",\n",
    "\"weights-improvement-33-0.61.hdf5\",\n",
    "\"weights-improvement-34-0.40.hdf5\",\n",
    "\"weights-improvement-35-0.56.hdf5\",\n",
    "\"weights-improvement-36-0.50.hdf5\",\n",
    "\"weights-improvement-37-0.54.hdf5\",\n",
    "\"weights-improvement-38-0.57.hdf5\",\n",
    "\"weights-improvement-39-0.68.hdf5\",\n",
    "\"weights-improvement-40-0.54.hdf5\",\n",
    "\"weights-improvement-41-0.66.hdf5\",\n",
    "\"weights-improvement-42-0.60.hdf5\",\n",
    "\"weights-improvement-43-0.55.hdf5\",\n",
    "\"weights-improvement-44-0.69.hdf5\",\n",
    "\"weights-improvement-45-0.53.hdf5\",\n",
    "\"weights-improvement-46-0.53.hdf5\",\n",
    "\"weights-improvement-47-0.63.hdf5\",\n",
    "\"weights-improvement-48-0.54.hdf5\",\n",
    "\"weights-improvement-49-0.64.hdf5\",\n",
    "\"weights-improvement-50-0.69.hdf5\",\n",
    "\"weights-improvement-51-0.50.hdf5\",\n",
    "\"weights-improvement-52-0.62.hdf5\",\n",
    "\"weights-improvement-53-0.70.hdf5\",\n",
    "\"weights-improvement-54-0.51.hdf5\",\n",
    "\"weights-improvement-55-0.62.hdf5\",\n",
    "\"weights-improvement-56-0.47.hdf5\",\n",
    "\"weights-improvement-57-0.62.hdf5\",\n",
    "\"weights-improvement-58-0.58.hdf5\",\n",
    "\"weights-improvement-59-0.54.hdf5\",\n",
    "\"weights-improvement-60-0.59.hdf5\",\n",
    "\"weights-improvement-61-0.63.hdf5\",\n",
    "\"weights-improvement-62-0.59.hdf5\",\n",
    "\"weights-improvement-63-0.58.hdf5\",\n",
    "\"weights-improvement-64-0.62.hdf5\",\n",
    "\"weights-improvement-65-0.68.hdf5\",\n",
    "\"weights-improvement-66-0.61.hdf5\",\n",
    "\"weights-improvement-67-0.69.hdf5\",\n",
    "\"weights-improvement-68-0.63.hdf5\",\n",
    "\"weights-improvement-69-0.65.hdf5\",\n",
    "\"weights-improvement-70-0.44.hdf5\",\n",
    "\"weights-improvement-71-0.56.hdf5\",\n",
    "\"weights-improvement-72-0.60.hdf5\",\n",
    "\"weights-improvement-73-0.63.hdf5\",\n",
    "\"weights-improvement-74-0.69.hdf5\",\n",
    "\"weights-improvement-75-0.62.hdf5\",\n",
    "\"weights-improvement-76-0.40.hdf5\",\n",
    "\"weights-improvement-77-0.61.hdf5\",\n",
    "\"weights-improvement-78-0.62.hdf5\",\n",
    "\"weights-improvement-79-0.66.hdf5\",\n",
    "\"weights-improvement-80-0.60.hdf5\",\n",
    "\"weights-improvement-81-0.51.hdf5\",\n",
    "\"weights-improvement-82-0.65.hdf5\",\n",
    "\"weights-improvement-83-0.64.hdf5\",\n",
    "\"weights-improvement-84-0.59.hdf5\",\n",
    "\"weights-improvement-85-0.58.hdf5\",\n",
    "\"weights-improvement-86-0.63.hdf5\",\n",
    "\"weights-improvement-87-0.61.hdf5\",\n",
    "\"weights-improvement-88-0.61.hdf5\",\n",
    "\"weights-improvement-89-0.51.hdf5\",\n",
    "\"weights-improvement-90-0.52.hdf5\",\n",
    "\"weights-improvement-91-0.66.hdf5\",\n",
    "\"weights-improvement-92-0.60.hdf5\",\n",
    "\"weights-improvement-93-0.64.hdf5\",\n",
    "\"weights-improvement-94-0.61.hdf5\",\n",
    "\"weights-improvement-95-0.63.hdf5\",\n",
    "\"weights-improvement-96-0.55.hdf5\",\n",
    "\"weights-improvement-97-0.66.hdf5\",\n",
    "\"weights-improvement-98-0.62.hdf5\",\n",
    "\"weights-improvement-99-0.55.hdf5\" ]\n"
   ]
  },
  {
   "cell_type": "code",
   "execution_count": 5,
   "metadata": {},
   "outputs": [
    {
     "name": "stdout",
     "output_type": "stream",
     "text": [
      "checkpoint weights-improvement-00-0.19.hdf5: 0.0480\n",
      "checkpoint weights-improvement-01-0.23.hdf5: 0.0537\n",
      "checkpoint weights-improvement-02-0.13.hdf5: 0.0335\n",
      "checkpoint weights-improvement-03-0.24.hdf5: 0.0973\n",
      "checkpoint weights-improvement-04-0.27.hdf5: 0.0804\n",
      "checkpoint weights-improvement-05-0.30.hdf5: 0.0888\n",
      "checkpoint weights-improvement-06-0.35.hdf5: 0.0839\n",
      "checkpoint weights-improvement-07-0.35.hdf5: 0.0689\n",
      "checkpoint weights-improvement-08-0.28.hdf5: 0.0752\n",
      "checkpoint weights-improvement-09-0.27.hdf5: 0.0603\n",
      "checkpoint weights-improvement-10-0.37.hdf5: 0.1202\n",
      "checkpoint weights-improvement-11-0.33.hdf5: 0.1010\n",
      "checkpoint weights-improvement-12-0.35.hdf5: 0.0985\n",
      "checkpoint weights-improvement-13-0.35.hdf5: 0.1034\n",
      "checkpoint weights-improvement-14-0.40.hdf5: 0.0936\n",
      "checkpoint weights-improvement-15-0.33.hdf5: 0.0858\n",
      "checkpoint weights-improvement-16-0.51.hdf5: 0.1312\n",
      "checkpoint weights-improvement-17-0.41.hdf5: 0.1120\n",
      "checkpoint weights-improvement-18-0.44.hdf5: 0.1242\n",
      "checkpoint weights-improvement-19-0.25.hdf5: 0.0908\n",
      "checkpoint weights-improvement-20-0.30.hdf5: 0.0678\n",
      "checkpoint weights-improvement-21-0.38.hdf5: 0.0953\n",
      "checkpoint weights-improvement-22-0.45.hdf5: 0.1318\n",
      "checkpoint weights-improvement-23-0.43.hdf5: 0.0865\n",
      "checkpoint weights-improvement-24-0.55.hdf5: 0.1531\n",
      "checkpoint weights-improvement-25-0.54.hdf5: 0.1342\n",
      "checkpoint weights-improvement-26-0.58.hdf5: 0.1264\n",
      "checkpoint weights-improvement-27-0.55.hdf5: 0.1297\n",
      "checkpoint weights-improvement-28-0.44.hdf5: 0.1174\n",
      "checkpoint weights-improvement-29-0.59.hdf5: 0.1203\n",
      "checkpoint weights-improvement-30-0.48.hdf5: 0.1141\n",
      "checkpoint weights-improvement-31-0.58.hdf5: 0.1455\n",
      "checkpoint weights-improvement-32-0.53.hdf5: 0.1094\n",
      "checkpoint weights-improvement-33-0.61.hdf5: 0.1390\n",
      "checkpoint weights-improvement-34-0.40.hdf5: 0.0855\n",
      "checkpoint weights-improvement-35-0.56.hdf5: 0.1622\n",
      "checkpoint weights-improvement-36-0.50.hdf5: 0.1288\n",
      "checkpoint weights-improvement-37-0.54.hdf5: 0.1233\n",
      "checkpoint weights-improvement-38-0.57.hdf5: 0.1450\n",
      "checkpoint weights-improvement-39-0.68.hdf5: 0.1140\n",
      "checkpoint weights-improvement-40-0.54.hdf5: 0.1618\n",
      "checkpoint weights-improvement-41-0.66.hdf5: 0.1070\n",
      "checkpoint weights-improvement-42-0.60.hdf5: 0.1306\n",
      "checkpoint weights-improvement-43-0.55.hdf5: 0.1252\n",
      "checkpoint weights-improvement-44-0.69.hdf5: 0.1170\n",
      "checkpoint weights-improvement-45-0.53.hdf5: 0.1596\n",
      "checkpoint weights-improvement-46-0.53.hdf5: 0.1551\n",
      "checkpoint weights-improvement-47-0.63.hdf5: 0.1353\n",
      "checkpoint weights-improvement-48-0.54.hdf5: 0.1446\n",
      "checkpoint weights-improvement-49-0.64.hdf5: 0.1137\n",
      "checkpoint weights-improvement-50-0.69.hdf5: 0.0911\n",
      "checkpoint weights-improvement-51-0.50.hdf5: 0.1465\n",
      "checkpoint weights-improvement-52-0.62.hdf5: 0.1159\n",
      "checkpoint weights-improvement-53-0.70.hdf5: 0.0608\n",
      "checkpoint weights-improvement-54-0.51.hdf5: 0.1457\n",
      "checkpoint weights-improvement-55-0.62.hdf5: 0.1350\n",
      "checkpoint weights-improvement-56-0.47.hdf5: 0.1331\n",
      "checkpoint weights-improvement-57-0.62.hdf5: 0.1480\n",
      "checkpoint weights-improvement-58-0.58.hdf5: 0.1434\n",
      "checkpoint weights-improvement-59-0.54.hdf5: 0.1448\n",
      "checkpoint weights-improvement-60-0.59.hdf5: 0.1267\n",
      "checkpoint weights-improvement-61-0.63.hdf5: 0.1289\n",
      "checkpoint weights-improvement-62-0.59.hdf5: 0.1368\n",
      "checkpoint weights-improvement-63-0.58.hdf5: 0.1221\n",
      "checkpoint weights-improvement-64-0.62.hdf5: 0.1415\n",
      "checkpoint weights-improvement-65-0.68.hdf5: 0.0867\n",
      "checkpoint weights-improvement-66-0.61.hdf5: 0.1324\n",
      "checkpoint weights-improvement-67-0.69.hdf5: 0.0972\n",
      "checkpoint weights-improvement-68-0.63.hdf5: 0.1577\n",
      "checkpoint weights-improvement-69-0.65.hdf5: 0.1237\n",
      "checkpoint weights-improvement-70-0.44.hdf5: 0.0949\n",
      "checkpoint weights-improvement-71-0.56.hdf5: 0.1427\n",
      "checkpoint weights-improvement-72-0.60.hdf5: 0.1284\n",
      "checkpoint weights-improvement-73-0.63.hdf5: 0.1318\n",
      "checkpoint weights-improvement-74-0.69.hdf5: 0.1052\n",
      "checkpoint weights-improvement-75-0.62.hdf5: 0.1464\n",
      "checkpoint weights-improvement-76-0.40.hdf5: 0.0933\n",
      "checkpoint weights-improvement-77-0.61.hdf5: 0.1223\n",
      "checkpoint weights-improvement-78-0.62.hdf5: 0.1435\n",
      "checkpoint weights-improvement-79-0.66.hdf5: 0.1461\n",
      "checkpoint weights-improvement-80-0.60.hdf5: 0.1448\n",
      "checkpoint weights-improvement-81-0.51.hdf5: 0.1323\n",
      "checkpoint weights-improvement-82-0.65.hdf5: 0.1416\n",
      "checkpoint weights-improvement-83-0.64.hdf5: 0.1538\n",
      "checkpoint weights-improvement-84-0.59.hdf5: 0.1705\n",
      "checkpoint weights-improvement-85-0.58.hdf5: 0.1712\n",
      "checkpoint weights-improvement-86-0.63.hdf5: 0.1468\n",
      "checkpoint weights-improvement-87-0.61.hdf5: 0.1402\n",
      "checkpoint weights-improvement-88-0.61.hdf5: 0.1569\n",
      "checkpoint weights-improvement-89-0.51.hdf5: 0.1260\n",
      "checkpoint weights-improvement-90-0.52.hdf5: 0.1272\n",
      "checkpoint weights-improvement-91-0.66.hdf5: 0.1506\n",
      "checkpoint weights-improvement-92-0.60.hdf5: 0.1399\n",
      "checkpoint weights-improvement-93-0.64.hdf5: 0.1545\n",
      "checkpoint weights-improvement-94-0.61.hdf5: 0.1193\n",
      "checkpoint weights-improvement-95-0.63.hdf5: 0.1253\n",
      "checkpoint weights-improvement-96-0.55.hdf5: 0.1443\n",
      "checkpoint weights-improvement-97-0.66.hdf5: 0.1187\n",
      "checkpoint weights-improvement-98-0.62.hdf5: 0.1291\n",
      "checkpoint weights-improvement-99-0.55.hdf5: 0.1529\n"
     ]
    }
   ],
   "source": [
    "for checkpoint in list_of_checkpoints:\n",
    "    # load json and create model\n",
    "    json_file = open('model.json', 'r')\n",
    "    loaded_model_json = json_file.read()\n",
    "    json_file.close()\n",
    "    model = model_from_json(loaded_model_json)\n",
    "\n",
    "    # load model's weights\n",
    "    model.load_weights(WEIGHTS_DIR + checkpoint)\n",
    "    \n",
    "    predicted_label = []\n",
    "    correct_label = []\n",
    "\n",
    "    # predict and store labels\n",
    "    for image_idx in range(len(image_file_pool)):\n",
    "        img_array = np.array(Image.open(image_file_pool[image_idx]))\n",
    "        img_array = img_array[None, :]\n",
    "        predicted_label.append(np.argmax(model.predict(img_array).ravel()))\n",
    "        correct_label.append(correct_data['level'].loc[correct_data['image'] == image_name_pool[image_idx]].tolist()[0])\n",
    "\n",
    "    print 'checkpoint {0}: {1:5.4f}'.format(checkpoint, quadratic_weighted_kappa(predicted_label, correct_label))"
   ]
  },
  {
   "cell_type": "markdown",
   "metadata": {},
   "source": [
    "If you want to plot accuracy chart with quadratic weighted kappa data for each epoch, you need to save your model each epoch (in model.py, change save_best_only=True to False in model_checkpoint) and add names of saved models to list_of_checkpoints above. Then you can augment 'history.csv' file with these data and obtain something like our accuracy chart for the baseline model:"
   ]
  },
  {
   "cell_type": "code",
   "execution_count": 8,
   "metadata": {},
   "outputs": [
    {
     "data": {
      "text/plain": [
       "<matplotlib.figure.Figure at 0x7f90ba919d50>"
      ]
     },
     "metadata": {},
     "output_type": "display_data"
    },
    {
     "data": {
      "text/plain": [
       "<matplotlib.figure.Figure at 0x7f901c0118d0>"
      ]
     },
     "metadata": {},
     "output_type": "display_data"
    },
    {
     "data": {
      "image/png": "[encoded data removed]",
      "text/plain": [
       "<matplotlib.figure.Figure at 0x7f901c3c2090>"
      ]
     },
     "metadata": {},
     "output_type": "display_data"
    }
   ],
   "source": [
    "import matplotlib.pyplot as plt\n",
    "acc_history = pd.read_csv('history.csv', index_col=0)\n",
    "k_history = pd.read_csv('k_history.csv', header=None)\n",
    "k_history = k_history.rename(columns={0: 'kappa'})\n",
    "full_history = pd.concat([acc_history, k_history], axis=1)\n",
    "\n",
    "plt.figure(); full_history[['acc', 'val_acc', 'kappa']].plot(); plt.show()"
   ]
  },
  {
   "cell_type": "markdown",
   "metadata": {},
   "source": [
    "From this Figure, it is clear that baseline model is vulnerable to overfitting. "
   ]
  },
  {
   "cell_type": "code",
   "execution_count": null,
   "metadata": {
    "collapsed": true
   },
   "outputs": [],
   "source": []
  },
  {
   "cell_type": "code",
   "execution_count": 10,
   "metadata": {},
   "outputs": [
    {
     "data": {
      "text/plain": [
       "0.17119999999999999"
      ]
     },
     "execution_count": 10,
     "metadata": {},
     "output_type": "execute_result"
    }
   ],
   "source": [
    "np.max(k_history['kappa'])"
   ]
  },
  {
   "cell_type": "code",
   "execution_count": null,
   "metadata": {
    "collapsed": true
   },
   "outputs": [],
   "source": []
  },
  {
   "cell_type": "code",
   "execution_count": 11,
   "metadata": {
    "collapsed": true
   },
   "outputs": [],
   "source": [
    "best_checkpoint = \"weights-improvement-35-0.56.hdf5\""
   ]
  },
  {
   "cell_type": "code",
   "execution_count": 12,
   "metadata": {},
   "outputs": [
    {
     "data": {
      "text/plain": [
       "['class2', 'class3', 'class1', 'class0', 'class4']"
      ]
     },
     "execution_count": 12,
     "metadata": {},
     "output_type": "execute_result"
    }
   ],
   "source": [
    "class_names"
   ]
  },
  {
   "cell_type": "code",
   "execution_count": 13,
   "metadata": {
    "collapsed": true
   },
   "outputs": [],
   "source": [
    "test_image_file_pool = []\n",
    "test_image_name_pool = []\n",
    "\n",
    "test_dir = \"data/test/\"\n",
    "\n",
    "for file in os.listdir(test_dir):\n",
    "    if file.endswith(\".jpeg\"):\n",
    "        test_image_file_pool.append(test_dir+file)\n",
    "        test_image_name_pool.append(file[:-5])"
   ]
  },
  {
   "cell_type": "code",
   "execution_count": 14,
   "metadata": {
    "collapsed": true
   },
   "outputs": [],
   "source": [
    "from tqdm import tqdm"
   ]
  },
  {
   "cell_type": "code",
   "execution_count": 15,
   "metadata": {},
   "outputs": [
    {
     "name": "stderr",
     "output_type": "stream",
     "text": [
      "100%|██████████| 53576/53576 [19:09<00:00, 46.60it/s]\n"
     ]
    }
   ],
   "source": [
    "predicted_label = []\n",
    "for image_idx in tqdm(range(len(test_image_file_pool))):\n",
    "        img_array = np.array(Image.open(test_image_file_pool[image_idx]))\n",
    "        img_array = img_array[None, :]\n",
    "        predicted_label.append(np.argmax(model.predict(img_array).ravel()))\n",
    "\n",
    "\n"
   ]
  },
  {
   "cell_type": "code",
   "execution_count": 16,
   "metadata": {},
   "outputs": [
    {
     "data": {
      "text/plain": [
       "53576"
      ]
     },
     "execution_count": 16,
     "metadata": {},
     "output_type": "execute_result"
    }
   ],
   "source": [
    "len(predicted_label)"
   ]
  },
  {
   "cell_type": "code",
   "execution_count": 17,
   "metadata": {},
   "outputs": [
    {
     "data": {
      "text/plain": [
       "53576"
      ]
     },
     "execution_count": 17,
     "metadata": {},
     "output_type": "execute_result"
    }
   ],
   "source": [
    "len(test_image_name_pool)"
   ]
  },
  {
   "cell_type": "code",
   "execution_count": 18,
   "metadata": {
    "collapsed": true
   },
   "outputs": [],
   "source": [
    "result = pd.DataFrame({\n",
    "    'image': test_image_name_pool,\n",
    "    'level':predicted_label\n",
    "})"
   ]
  },
  {
   "cell_type": "code",
   "execution_count": 19,
   "metadata": {
    "collapsed": true
   },
   "outputs": [],
   "source": [
    "result.to_csv('result.csv', index=False)"
   ]
  },
  {
   "cell_type": "code",
   "execution_count": null,
   "metadata": {
    "collapsed": true
   },
   "outputs": [],
   "source": []
  }
 ],
 "metadata": {
  "kernelspec": {
   "display_name": "Python 2",
   "language": "python",
   "name": "python2"
  },
  "language_info": {
   "codemirror_mode": {
    "name": "ipython",
    "version": 2
   },
   "file_extension": ".py",
   "mimetype": "text/x-python",
   "name": "python",
   "nbconvert_exporter": "python",
   "pygments_lexer": "ipython2",
   "version": "2.7.12"
  }
 },
 "nbformat": 4,
 "nbformat_minor": 2
}
